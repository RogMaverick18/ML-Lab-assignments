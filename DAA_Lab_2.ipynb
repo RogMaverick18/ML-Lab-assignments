{
  "nbformat": 4,
  "nbformat_minor": 0,
  "metadata": {
    "colab": {
      "provenance": [],
      "authorship_tag": "ABX9TyPlJj4xW+uqBNV19mEmQB1M",
      "include_colab_link": true
    },
    "kernelspec": {
      "name": "python3",
      "display_name": "Python 3"
    },
    "language_info": {
      "name": "python"
    }
  },
  "cells": [
    {
      "cell_type": "markdown",
      "metadata": {
        "id": "view-in-github",
        "colab_type": "text"
      },
      "source": [
        "<a href=\"https://colab.research.google.com/github/RogMaverick18/ML-Lab-assignments/blob/main/DAA_Lab_2.ipynb\" target=\"_parent\"><img src=\"https://colab.research.google.com/assets/colab-badge.svg\" alt=\"Open In Colab\"/></a>"
      ]
    },
    {
      "cell_type": "markdown",
      "source": [
        "Question 1 - Pascal's Triangle"
      ],
      "metadata": {
        "id": "Rp5Sl4Hb_l_6"
      }
    },
    {
      "cell_type": "code",
      "source": [
        "def gen_pascal(n):\n",
        "    rslt = []\n",
        "    for row in range(n):\n",
        "        temp = [1] * (row + 1)\n",
        "        for col in range(1, row):\n",
        "            temp[col] = rslt[row - 1][col - 1] + rslt[row - 1][col]\n",
        "        rslt.append(temp)\n",
        "    return rslt\n",
        "\n",
        "print(\"Generated Pascal's Tri:\")\n",
        "for line in gen_pascal(5):\n",
        "    print(line)"
      ],
      "metadata": {
        "colab": {
          "base_uri": "https://localhost:8080/"
        },
        "id": "PPNyku1Y_scM",
        "outputId": "44a8d782-d540-4ddc-f95f-1bcbac1063ea"
      },
      "execution_count": 6,
      "outputs": [
        {
          "output_type": "stream",
          "name": "stdout",
          "text": [
            "Generated Pascal's Tri:\n",
            "[1]\n",
            "[1, 1]\n",
            "[1, 2, 1]\n",
            "[1, 3, 3, 1]\n",
            "[1, 4, 6, 4, 1]\n"
          ]
        }
      ]
    },
    {
      "cell_type": "markdown",
      "source": [
        "Question 2 - Longest Increasing Subsequences"
      ],
      "metadata": {
        "id": "tbJbMvi6_wue"
      }
    },
    {
      "cell_type": "code",
      "source": [
        "def lis_dp(sequence):\n",
        "    n = len(sequence)\n",
        "    if n == 0:\n",
        "        return []\n",
        "\n",
        "    lngth = [1] * n\n",
        "    prvs = [-1] * n\n",
        "\n",
        "    for i in range(1, n):\n",
        "        for j in range(i):\n",
        "            if sequence[j] < sequence[i] and lngth[j] + 1 > lngth[i]:\n",
        "                lngth[i] = lngth[j] + 1\n",
        "                prvs[i] = j\n",
        "\n",
        "    max_index = lngth.index(max(lngth))\n",
        "    path = []\n",
        "    while max_index != -1:\n",
        "        path.append(sequence[max_index])\n",
        "        max_index = prvs[max_index]\n",
        "    return path[::-1]\n",
        "\n",
        "input_seq = [0, 8, 4, 12, 2, 10, 6, 14, 1, 9, 5, 13, 3, 11, 7, 15]\n",
        "print(\"LIS of the sequence:\", lis_dp(input_seq))"
      ],
      "metadata": {
        "colab": {
          "base_uri": "https://localhost:8080/"
        },
        "id": "YpdqVXJOSF71",
        "outputId": "bb20debe-de47-43d2-aba0-a097f8a2e12b"
      },
      "execution_count": 5,
      "outputs": [
        {
          "output_type": "stream",
          "name": "stdout",
          "text": [
            "LIS of the sequence: [0, 4, 6, 9, 13, 15]\n"
          ]
        }
      ]
    },
    {
      "cell_type": "markdown",
      "source": [
        "Question 3 - Least Perfect Squares"
      ],
      "metadata": {
        "id": "SdA2ai31B091"
      }
    },
    {
      "cell_type": "code",
      "source": [
        "def least_sqre(num):\n",
        "    dp = [0] + [float('inf')] * num\n",
        "    square_nums = [i*i for i in range(1, int(num**0.5) + 1)]\n",
        "    for i in range(1, num + 1):\n",
        "        for sq in square_nums:\n",
        "            if sq > i:\n",
        "                break\n",
        "            dp[i] = min(dp[i], dp[i - sq] + 1)\n",
        "    return dp[num]\n",
        "\n",
        "print(\"Minimum number of perfect squares for 12:\", least_sqre(12))\n",
        "print(\"Minimum number of perfect squares for 13:\", least_sqre(13))"
      ],
      "metadata": {
        "colab": {
          "base_uri": "https://localhost:8080/"
        },
        "id": "zNI5srpNR70S",
        "outputId": "620b6437-1351-4306-fea3-1a456c15c6c5"
      },
      "execution_count": 7,
      "outputs": [
        {
          "output_type": "stream",
          "name": "stdout",
          "text": [
            "Minimum number of perfect squares for 12: 3\n",
            "Minimum number of perfect squares for 13: 2\n"
          ]
        }
      ]
    },
    {
      "cell_type": "markdown",
      "source": [
        "Question 4 - Unique path"
      ],
      "metadata": {
        "id": "65RRMTTeCJCd"
      }
    },
    {
      "cell_type": "code",
      "source": [
        "def cunt_paths(grid):\n",
        "    m, n = len(grid), len(grid[0])\n",
        "    if grid[0][0] == 1 or grid[m-1][n-1] == 1:\n",
        "        return 0\n",
        "\n",
        "    dp = [[0] * n for _ in range(m)]\n",
        "    dp[0][0] = 1\n",
        "\n",
        "    for j in range(1, n):\n",
        "        if grid[0][j] == 0:\n",
        "            dp[0][j] = dp[0][j-1]\n",
        "\n",
        "    for i in range(1, m):\n",
        "        if grid[i][0] == 0:\n",
        "            dp[i][0] = dp[i-1][0]\n",
        "\n",
        "    for i in range(1, m):\n",
        "        for j in range(1, n):\n",
        "            if grid[i][j] == 0:\n",
        "                dp[i][j] = dp[i-1][j] + dp[i][j-1]\n",
        "    return dp[m-1][n-1]\n",
        "\n",
        "test_grid = [[0, 0, 0], [0, 1, 0], [0, 0, 0]]\n",
        "print(\"Total valid paths in the maze:\", cunt_paths(test_grid))"
      ],
      "metadata": {
        "colab": {
          "base_uri": "https://localhost:8080/"
        },
        "id": "NPvCKI9pR1Vy",
        "outputId": "23ad121a-de03-4dfd-91ff-6918f5d94561"
      },
      "execution_count": 8,
      "outputs": [
        {
          "output_type": "stream",
          "name": "stdout",
          "text": [
            "Total valid paths in the maze: 2\n"
          ]
        }
      ]
    },
    {
      "cell_type": "markdown",
      "source": [
        "Question 5 - Knight's tour"
      ],
      "metadata": {
        "id": "ClT7vT9gCVUI"
      }
    },
    {
      "cell_type": "code",
      "source": [
        "def knight_possible(x, y, board, size):\n",
        "    return 0 <= x < size and 0 <= y < size and board[x][y] == -1\n",
        "\n",
        "def onward_moves(x, y, board, size, dx, dy):\n",
        "    count = 0\n",
        "    for d in range(8):\n",
        "        nx, ny = x + dx[d], y + dy[d]\n",
        "        if knight_possible(nx, ny, board, size):\n",
        "            count += 1\n",
        "    return count\n",
        "\n",
        "def knight_moves(size):\n",
        "    board = [[-1] * size for _ in range(size)]\n",
        "    dx = [2, 1, -1, -2, -2, -1, 1, 2]\n",
        "    dy = [1, 2, 2, 1, -1, -2, -2, -1]\n",
        "    x = y = 0\n",
        "    board[x][y] = 0\n",
        "\n",
        "    for move in range(1, size * size):\n",
        "        best_move = 9\n",
        "        next_x = next_y = -1\n",
        "        for i in range(8):\n",
        "            nx, ny = x + dx[i], y + dy[i]\n",
        "            if knight_possible(nx, ny, board, size):\n",
        "                degree = onward_moves(nx, ny, board, size, dx, dy)\n",
        "                if degree < best_move:\n",
        "                    best_move = degree\n",
        "                    next_x, next_y = nx, ny\n",
        "        if next_x == -1:\n",
        "            return None\n",
        "        x, y = next_x, next_y\n",
        "        board[x][y] = move\n",
        "    return board\n",
        "\n",
        "kt_board = knight_moves(8)\n",
        "print(\"Knight's tour sequence:\")\n",
        "if kt_board:\n",
        "    for line in kt_board:\n",
        "        print(line)\n",
        "else:\n",
        "    print(\"Unable to find a valid tour\")"
      ],
      "metadata": {
        "colab": {
          "base_uri": "https://localhost:8080/"
        },
        "id": "PybxiVD-Rs3V",
        "outputId": "8ff0d59f-9fb7-4cb7-8af2-cf897480a9a6"
      },
      "execution_count": 9,
      "outputs": [
        {
          "output_type": "stream",
          "name": "stdout",
          "text": [
            "Knight's tour sequence:\n",
            "[0, 33, 2, 17, 48, 31, 12, 15]\n",
            "[3, 18, 55, 32, 13, 16, 49, 30]\n",
            "[56, 1, 34, 47, 54, 51, 14, 11]\n",
            "[19, 4, 59, 52, 35, 46, 29, 50]\n",
            "[40, 57, 36, 45, 60, 53, 10, 25]\n",
            "[5, 20, 41, 58, 37, 26, 63, 28]\n",
            "[42, 39, 22, 7, 44, 61, 24, 9]\n",
            "[21, 6, 43, 38, 23, 8, 27, 62]\n"
          ]
        }
      ]
    },
    {
      "cell_type": "markdown",
      "source": [
        "Question 6 - Hamiltonian Cycle"
      ],
      "metadata": {
        "id": "So7-P7UqEBtn"
      }
    },
    {
      "cell_type": "code",
      "source": [
        "def find_hamil_cycle(graph):\n",
        "    def is_safe(vertex, path, pos):\n",
        "        return vertex in graph[path[pos - 1]] and vertex not in path\n",
        "\n",
        "    def backtrack(path, pos):\n",
        "        if pos == len(graph):\n",
        "            return path[0] in graph[path[-1]]\n",
        "        for vertex in graph:\n",
        "            if is_safe(vertex, path, pos):\n",
        "                path[pos] = vertex\n",
        "                if backtrack(path, pos + 1):\n",
        "                    return True\n",
        "                path[pos] = -1\n",
        "        return False\n",
        "\n",
        "    nodes = list(graph.keys())\n",
        "    path = [-1] * len(nodes)\n",
        "    path[0] = nodes[0]\n",
        "    if backtrack(path, 1):\n",
        "        path.append(path[0])\n",
        "        print(\"A valid Hamiltonian cycle found:\", path)\n",
        "    else:\n",
        "        print(\"No Hamiltonian cycle is possible.\")\n",
        "\n",
        "graph_data = {\n",
        "    'A': ['B', 'C', 'D'],\n",
        "    'B': ['A', 'D', 'E'],\n",
        "    'C': ['A', 'B', 'D'],\n",
        "    'D': ['B', 'C', 'E'],\n",
        "    'E': ['B', 'D']\n",
        "}\n",
        "find_hamil_cycle(graph_data)"
      ],
      "metadata": {
        "colab": {
          "base_uri": "https://localhost:8080/"
        },
        "id": "weuwkkMNEJin",
        "outputId": "6eb32868-d722-4d4d-89a8-109735b8e404"
      },
      "execution_count": 10,
      "outputs": [
        {
          "output_type": "stream",
          "name": "stdout",
          "text": [
            "A valid Hamiltonian cycle found: ['A', 'B', 'E', 'D', 'C', 'A']\n"
          ]
        }
      ]
    },
    {
      "cell_type": "markdown",
      "source": [
        "Question 7 - M Colouring problem"
      ],
      "metadata": {
        "id": "AloOCLKeEMAQ"
      }
    },
    {
      "cell_type": "code",
      "source": [
        "def color_graph(adj, max_colors):\n",
        "    n = len(adj)\n",
        "    assigned = [0] * n\n",
        "\n",
        "    def safe(node, clr):\n",
        "        return all(adj[node][i] == 0 or assigned[i] != clr for i in range(n))\n",
        "\n",
        "    def assign(node):\n",
        "        if node == n:\n",
        "            return True\n",
        "        for c in range(1, max_colors + 1):\n",
        "            if safe(node, c):\n",
        "                assigned[node] = c\n",
        "                if assign(node + 1):\n",
        "                    return True\n",
        "                assigned[node] = 0\n",
        "        return False\n",
        "\n",
        "    if assign(0):\n",
        "        print(\"Valid coloring:\", assigned)\n",
        "    else:\n",
        "        print(\"Coloring not possible\")\n",
        "\n",
        "adjacency = [\n",
        "    [0, 1, 1, 1],\n",
        "    [1, 0, 1, 0],\n",
        "    [1, 1, 0, 1],\n",
        "    [1, 0, 1, 0]\n",
        "]\n",
        "color_graph(adjacency, 3)"
      ],
      "metadata": {
        "colab": {
          "base_uri": "https://localhost:8080/"
        },
        "id": "Ht6sU6GlRjtg",
        "outputId": "22cee7a3-8309-4bae-987b-cd5ff200da5b"
      },
      "execution_count": 12,
      "outputs": [
        {
          "output_type": "stream",
          "name": "stdout",
          "text": [
            "Valid coloring: [1, 2, 3, 2]\n"
          ]
        }
      ]
    },
    {
      "cell_type": "markdown",
      "source": [
        "Question 8 - Job Scheduling"
      ],
      "metadata": {
        "id": "QPP5wXNRHE0H"
      }
    },
    {
      "cell_type": "code",
      "source": [
        "import heapq\n",
        "\n",
        "class Job:\n",
        "    def __init__(self, jid, prft, ddl):\n",
        "        self.id = jid\n",
        "        self.profit = prft\n",
        "        self.deadline = ddl\n",
        "\n",
        "class Node:\n",
        "    def __init__(self, lvl, prft, slot_map):\n",
        "        self.level = lvl\n",
        "        self.profit = prft\n",
        "        self.schedule = slot_map.copy()\n",
        "    def __lt__(self, other):\n",
        "        return self.profit > other.profit\n",
        "\n",
        "def jb_scheduler_bnb(jobs):\n",
        "    jobs.sort(key=lambda j: j.profit, reverse=True)\n",
        "    latest_deadline = max(job.deadline for job in jobs)\n",
        "    max_prft = 0\n",
        "    optimal_plan = {}\n",
        "\n",
        "    heap = [Node(-1, 0, {})]\n",
        "\n",
        "    while heap:\n",
        "        current = heapq.heappop(heap)\n",
        "        if current.level == len(jobs) - 1:\n",
        "            if current.profit > max_prft:\n",
        "                max_prft = current.profit\n",
        "                optimal_plan = current.schedule\n",
        "            continue\n",
        "\n",
        "        next_job = jobs[current.level + 1]\n",
        "        for t in range(next_job.deadline, 0, -1):\n",
        "            if t not in current.schedule:\n",
        "                new_map = current.schedule.copy()\n",
        "                new_map[t] = next_job.id\n",
        "                heapq.heappush(heap, Node(current.level+1, current.profit + next_job.profit, new_map))\n",
        "                break\n",
        "\n",
        "        heapq.heappush(heap, Node(current.level+1, current.profit, current.schedule))\n",
        "\n",
        "    result = [None] * (latest_deadline + 1)\n",
        "    for slot in optimal_plan:\n",
        "        result[slot] = optimal_plan[slot]\n",
        "    final_jobs = [x for x in result if x is not None]\n",
        "    print(f\"Highest Profit Achieved: {max_prft}\")\n",
        "    print(f\"Jobs Scheduled: {final_jobs}\")\n",
        "\n",
        "jbs_input = [Job(1, 20, 2), Job(2, 15, 2), Job(3, 10, 1), Job(4, 5, 3), Job(5, 1, 3)]\n",
        "jb_scheduler_bnb(jbs_input)"
      ],
      "metadata": {
        "colab": {
          "base_uri": "https://localhost:8080/"
        },
        "id": "fMgfsXdDFD2f",
        "outputId": "cfbd3831-2cb5-489f-abdf-bc4c98baf3de"
      },
      "execution_count": 11,
      "outputs": [
        {
          "output_type": "stream",
          "name": "stdout",
          "text": [
            "Highest Profit Achieved: 40\n",
            "Jobs Scheduled: [2, 1, 4]\n"
          ]
        }
      ]
    },
    {
      "cell_type": "markdown",
      "source": [
        "Question 9 - P.T Hamiltonian Cycle is NP-Complete"
      ],
      "metadata": {
        "id": "sP6kUhbSFFxk"
      }
    },
    {
      "cell_type": "markdown",
      "source": [
        "Hamiltonian Cycle is NP-Complete:\n",
        "The Hamiltonian Cycle problem is classified as NP-Complete. This is established in two steps:\n",
        "1.\tHamiltonian Cycle ∈ NP: Given a proposed cycle, it can be checked in polynomial time if:\n",
        "•\tAll vertices occur exactly once,\n",
        "•\tConsecutive vertices are connected via valid edges,\n",
        "•\tThe cycle returns to the starting vertex.\n",
        "These verifications are efficiently computable (in O(n²) time), so the problem is in NP.\n",
        "2.\tHamiltonian Cycle is NP-Hard: We can reduce any instance of a known NP-Complete problem such as 3-SAT into Hamiltonian Cycle. In this transformation:\n",
        "•\tClause and variable components of a 3-SAT formula are converted to graph gadgets,\n",
        "•\tThe cycle’s existence is dependent on a satisfying assignment of the boolean formula.\n",
        "Alternatively, a reduction from Hamiltonian Path can be made by adding a dummy vertex connected to all others. The Hamiltonian Cycle exists in the new graph iff a Hamiltonian Path exists in the original.\n",
        "\n",
        "Therefore, since Hamiltonian Cycle is both in NP and NP-Hard, it is classified as NP-Complete.\n"
      ],
      "metadata": {
        "id": "pfjPlESWFO-u"
      }
    }
  ]
}