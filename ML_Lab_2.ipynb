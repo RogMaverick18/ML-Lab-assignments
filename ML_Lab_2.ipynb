{
  "cells": [
    {
      "cell_type": "markdown",
      "metadata": {
        "id": "view-in-github",
        "colab_type": "text"
      },
      "source": [
        "<a href=\"https://colab.research.google.com/github/RogMaverick18/ML-Lab-assignments/blob/main/ML_Lab_2.ipynb\" target=\"_parent\"><img src=\"https://colab.research.google.com/assets/colab-badge.svg\" alt=\"Open In Colab\"/></a>"
      ]
    },
    {
      "cell_type": "markdown",
      "metadata": {
        "id": "P8YZscTbtQjO"
      },
      "source": [
        "1)  Please refer to the “Purchase Data” worksheet of Lab Session Data.xlsx. Please load the data\n",
        "and segregate them into 2 matrices A & C (following the nomenclature of AX = C). Do the following\n",
        "activities.\n",
        "• What is the dimensionality of the vector space for this data?\n",
        "• How many vectors exist in this vector space?\n",
        "• What is the rank of Matrix A?\n",
        "• Using Pseudo-Inverse find the cost of each product available for sale.  \n",
        "(Suggestion: If you use Python, you can use numpy.linalg.pinv() function to get a\n",
        "pseudo-inverse.)"
      ]
    },
    {
      "cell_type": "code",
      "execution_count": null,
      "metadata": {
        "colab": {
          "base_uri": "https://localhost:8080/"
        },
        "id": "-ERLJv4mtQHY",
        "outputId": "ebef8023-7131-40e6-8293-62d8bf6c0421"
      },
      "outputs": [
        {
          "output_type": "stream",
          "name": "stdout",
          "text": [
            "Mounted at /content/drive\n",
            "Matrix A:\n",
            "[[20  6  2]\n",
            " [16  3  6]\n",
            " [27  6  2]\n",
            " [19  1  2]\n",
            " [24  4  2]\n",
            " [22  1  5]\n",
            " [15  4  2]\n",
            " [18  4  2]\n",
            " [21  1  4]\n",
            " [16  2  4]]\n",
            "Vector C:\n",
            "[386 289 393 110 280 167 271 274 148 198]\n",
            "Dimensionality of the vector space: 3\n",
            "Number of vectors in the vector space: 10\n",
            "Rank of Matrix A: 3\n",
            "Cost of each product (Candy, Mango, Milk):\n",
            "[ 1. 55. 18.]\n",
            "Candy Price: Rs 1.00\n",
            "Mango Price per Kg: Rs 55.00\n",
            "Milk Packet Price: Rs 18.00\n"
          ]
        }
      ],
      "source": [
        "# Mount Google Drive to Colab\n",
        "from google.colab import drive\n",
        "drive.mount('/content/drive')\n",
        "\n",
        "import pandas as pd\n",
        "import numpy as np\n",
        "\n",
        "file_path = '/content/drive/MyDrive/Colab Notebooks/Lab Session Data.xlsx'\n",
        "\n",
        "purchase_data = pd.read_excel(file_path, sheet_name='Purchase data')\n",
        "\n",
        "purchase_data = purchase_data.loc[:, ~purchase_data.columns.str.contains('^Unnamed')]\n",
        "\n",
        "purchase_data[['Candies (#)', 'Mangoes (Kg)', 'Milk Packets (#)', 'Payment (Rs)']] = (\n",
        "    purchase_data[['Candies (#)', 'Mangoes (Kg)', 'Milk Packets (#)', 'Payment (Rs)']]\n",
        "    .apply(pd.to_numeric, errors='coerce')\n",
        "    .dropna()\n",
        ")\n",
        "\n",
        "# Creating Matrix A and Vector C\n",
        "A = purchase_data[['Candies (#)', 'Mangoes (Kg)', 'Milk Packets (#)']].values\n",
        "C = purchase_data['Payment (Rs)'].values\n",
        "\n",
        "print(\"Matrix A:\")\n",
        "print(A)\n",
        "print(\"Vector C:\")\n",
        "print(C)\n",
        "\n",
        "# Dimensionality and Vector Count\n",
        "dimensionality = A.shape[1]\n",
        "print(f\"Dimensionality of the vector space: {dimensionality}\")\n",
        "\n",
        "num_vectors = A.shape[0]\n",
        "print(f\"Number of vectors in the vector space: {num_vectors}\")\n",
        "\n",
        "# Rank of Matrix A\n",
        "rank_A = np.linalg.matrix_rank(A)\n",
        "print(f\"Rank of Matrix A: {rank_A}\")\n",
        "\n",
        "# Pseudo-Inverse to find costs\n",
        "A_pseudo_inv = np.linalg.pinv(A)\n",
        "X = np.dot(A_pseudo_inv, C)\n",
        "\n",
        "print(\"Cost of each product (Candy, Mango, Milk):\")\n",
        "print(X)\n",
        "\n",
        "print(f\"Candy Price: Rs {X[0]:.2f}\")\n",
        "print(f\"Mango Price per Kg: Rs {X[1]:.2f}\")\n",
        "print(f\"Milk Packet Price: Rs {X[2]:.2f}\")"
      ]
    },
    {
      "cell_type": "markdown",
      "metadata": {
        "id": "tGIiOcF_tQ_G"
      },
      "source": [
        "2)  Use the Pseudo-inverse to calculate the model vector X for predicting the cost of the products\n",
        "available with the vendor."
      ]
    },
    {
      "cell_type": "code",
      "execution_count": null,
      "metadata": {
        "colab": {
          "base_uri": "https://localhost:8080/"
        },
        "id": "xzI2kBo9tP-5",
        "outputId": "92fa23f1-7f19-4119-91c2-2571953370aa"
      },
      "outputs": [
        {
          "output_type": "stream",
          "name": "stdout",
          "text": [
            "Cost of each product (Model Vector X):\n",
            "[ 1. 55. 18.]\n",
            "\n",
            "Actual Costs (C): [386 289 393 110 280 167 271 274 148 198]\n",
            "Predicted Costs (C_predicted): [386. 289. 393. 110. 280. 167. 271. 274. 148. 198.]\n"
          ]
        }
      ],
      "source": [
        "print(\"Cost of each product (Model Vector X):\")\n",
        "print(X)\n",
        "\n",
        "C_predicted = np.dot(A, X)\n",
        "print(\"\\nActual Costs (C):\", C)\n",
        "print(\"Predicted Costs (C_predicted):\", C_predicted)"
      ]
    },
    {
      "cell_type": "markdown",
      "metadata": {
        "id": "MwUci9QWtRa7"
      },
      "source": [
        "3) Mark all customers (in “Purchase Data” table) with payments above Rs. 200 as RICH and others\n",
        "as POOR. Develop a classifier model to categorize customers into RICH or POOR class based on\n",
        "purchase behavior."
      ]
    },
    {
      "cell_type": "code",
      "execution_count": null,
      "metadata": {
        "colab": {
          "base_uri": "https://localhost:8080/"
        },
        "id": "z-aPOPHItP4L",
        "outputId": "181c4023-d579-4f1a-f833-e88dd59cbede"
      },
      "outputs": [
        {
          "output_type": "stream",
          "name": "stdout",
          "text": [
            "\n",
            "Customer Categories:\n",
            "  Customer  Payment (Rs) Category\n",
            "0      C_1           386     RICH\n",
            "1      C_2           289     RICH\n",
            "2      C_3           393     RICH\n",
            "3      C_4           110     POOR\n",
            "4      C_5           280     RICH\n",
            "5      C_6           167     POOR\n",
            "6      C_7           271     RICH\n",
            "7      C_8           274     RICH\n",
            "8      C_9           148     POOR\n",
            "9     C_10           198     POOR\n"
          ]
        }
      ],
      "source": [
        "purchase_data[\"Category\"] = np.where(purchase_data[\"Payment (Rs)\"] > 200, \"RICH\", \"POOR\")\n",
        "print(\"\\nCustomer Categories:\")\n",
        "print(purchase_data[[\"Customer\", \"Payment (Rs)\", \"Category\"]])"
      ]
    },
    {
      "cell_type": "markdown",
      "metadata": {
        "id": "PeUudcwztRsd"
      },
      "source": [
        "4) Please refer to the data present in “IRCTC Stock Price” data sheet of the above excel file. Do the\n",
        "following after loading the data to your programming platform.\n",
        "• Calculate the mean and variance of the Price data present in column D.  \n",
        "(Suggestion: if you use Python, you may use statistics.mean() &\n",
        "statistics.variance() methods).\n",
        "• Select the price data for all Wednesdays and calculate the sample mean. Compare the mean\n",
        "with the population mean and note your observations.\n",
        "• Select the price data for the month of Apr and calculate the sample mean. Compare the\n",
        "mean with the population mean and note your observations.\n",
        "• From the Chg% (available in column I) find the probability of making a loss over the stock.\n",
        "(Suggestion: use lambda function to find negative values)\n",
        "• Calculate the probability of making a profit on Wednesday.\n",
        "• Calculate the conditional probability of making profit, given that today is Wednesday.\n",
        "• Make a scatter plot of Chg% data against the day of the week"
      ]
    },
    {
      "cell_type": "code",
      "execution_count": null,
      "metadata": {
        "colab": {
          "base_uri": "https://localhost:8080/",
          "height": 859
        },
        "id": "hMxKHdKqtPyb",
        "outputId": "eeeba978-8e25-4dcd-8da6-1651ff37c51c"
      },
      "outputs": [
        {
          "output_type": "stream",
          "name": "stdout",
          "text": [
            "\n",
            "Mean of Price data: 1560.66\n",
            "Variance of Price data: 58732.37\n",
            "\n",
            "Sample Mean for Wednesdays: 1550.71\n",
            "Population mean: 1560.66\n",
            "Difference from Population Mean: 9.96\n",
            "\n",
            "Sample Mean for April: 1698.95\n",
            "Population mean: 1560.66\n",
            "Difference from Population Mean: 138.29\n",
            "\n",
            "Probability of Making a Loss: 0.50\n",
            "\n",
            "Probability of Making a Profit on Wednesday: 0.42\n",
            "\n",
            "Conditional probability of making a profit given that today is Wednesday: 0.84\n"
          ]
        },
        {
          "output_type": "display_data",
          "data": {
            "text/plain": [
              "<Figure size 1000x600 with 1 Axes>"
            ],
            "image/png": "[encoded data removed]"
          },
          "metadata": {}
        }
      ],
      "source": [
        "import pandas as pd\n",
        "import statistics as stats\n",
        "import numpy as np\n",
        "import matplotlib.pyplot as plt\n",
        "\n",
        "file_path = '/content/drive/MyDrive/Colab Notebooks/Lab Session Data.xlsx'\n",
        "stock_data = pd.read_excel(file_path, sheet_name='IRCTC Stock Price')\n",
        "\n",
        "stock_data = stock_data.loc[:, ~stock_data.columns.str.contains('^Unnamed')]\n",
        "\n",
        "stock_data['Price'] = pd.to_numeric(stock_data['Price'], errors='coerce')\n",
        "stock_data['Chg%'] = pd.to_numeric(stock_data['Chg%'], errors='coerce')\n",
        "stock_data['Date'] = pd.to_datetime(stock_data['Date'])\n",
        "stock_data.dropna(subset=['Price', 'Chg%'], inplace=True)\n",
        "stock_data['Day'] = stock_data['Date'].dt.day_name()\n",
        "\n",
        "# Q1: Mean and Variance of Price data\n",
        "population_mean = stats.mean(stock_data['Price'])\n",
        "population_variance = stats.variance(stock_data['Price'])\n",
        "print(f\"\\nMean of Price data: {population_mean:.2f}\")\n",
        "print(f\"Variance of Price data: {population_variance:.2f}\")\n",
        "\n",
        "# Q2: Sample mean for Wednesdays\n",
        "wednesday_prices = stock_data[stock_data['Day'] == 'Wednesday']['Price']\n",
        "wednesday_mean = stats.mean(wednesday_prices)\n",
        "print(f\"\\nSample Mean for Wednesdays: {wednesday_mean:.2f}\")\n",
        "print(f\"Population mean: {population_mean:.2f}\")\n",
        "print(f\"Difference from Population Mean: {abs(population_mean - wednesday_mean):.2f}\")\n",
        "\n",
        "# Q3: Sample mean for April\n",
        "april_prices = stock_data[stock_data['Date'].dt.month == 4]['Price']\n",
        "april_mean = stats.mean(april_prices)\n",
        "print(f\"\\nSample Mean for April: {april_mean:.2f}\")\n",
        "print(f\"Population mean: {population_mean:.2f}\")\n",
        "print(f\"Difference from Population Mean: {abs(population_mean - april_mean):.2f}\")\n",
        "\n",
        "# Q4: Probability of making a loss\n",
        "num_days = len(stock_data)\n",
        "loss_days = len(list(filter(lambda x: x < 0, stock_data['Chg%'])))\n",
        "prob_loss = loss_days / num_days\n",
        "print(f\"\\nProbability of Making a Loss: {prob_loss:.2f}\")\n",
        "\n",
        "# Q5: Probability of making a profit on Wednesday\n",
        "wednesday_data = stock_data[stock_data['Day'] == 'Wednesday']\n",
        "profit_wed = len(list(filter(lambda x: x > 0, wednesday_data['Chg%'])))\n",
        "prob_profit_wed = profit_wed / len(wednesday_data)\n",
        "print(f\"\\nProbability of Making a Profit on Wednesday: {prob_profit_wed:.2f}\")\n",
        "\n",
        "# Q6: Conditional probability of making a profit given that today is Wednesday\n",
        "num_profit = len(list(filter(lambda x: x > 0, stock_data['Chg%'])))\n",
        "prob_profit = num_profit / num_days\n",
        "conditional_prob = prob_profit_wed / prob_profit\n",
        "print(f\"\\nConditional probability of making a profit given that today is Wednesday: {conditional_prob:.2f}\")\n",
        "\n",
        "# Q7: Scatter plot of Chg% vs Day of the Week\n",
        "plt.figure(figsize=(10,6))\n",
        "plt.scatter(stock_data['Day'], stock_data['Chg%'], color='blue')\n",
        "plt.title('Chg% vs Day of the Week')\n",
        "plt.xlabel('Day of the Week')\n",
        "plt.ylabel('Chg%')\n",
        "plt.grid(True)\n",
        "plt.show()"
      ]
    },
    {
      "cell_type": "markdown",
      "metadata": {
        "id": "84H9nA0yZjbe"
      },
      "source": [
        "5)  Data Exploration: Load the data available in “thyroid0387_UCI” worksheet. Perform the\n",
        "following tasks:\n",
        "• Study each attribute and associated values present. Identify the datatype (nominal etc.)\n",
        "for the attribute.\n",
        "• For categorical attributes, identify the encoding scheme to be employed. (Guidance:\n",
        "employ label encoding for ordinal variables while One-Hot encoding may be employed\n",
        "for nominal variables).\n",
        "• Study the data range for numeric variables.\n",
        "• Study the presence of missing values in each attribute.\n",
        "• Study presence of outliers in data.  \n",
        "• For numeric variables, calculate the mean and variance (or standard deviation)."
      ]
    },
    {
      "cell_type": "code",
      "execution_count": null,
      "metadata": {
        "colab": {
          "base_uri": "https://localhost:8080/",
          "height": 1000
        },
        "id": "j696Ryg2ZWFd",
        "outputId": "0b6f7a27-ecf0-4951-c97e-db353e2ef8bf"
      },
      "outputs": [
        {
          "output_type": "stream",
          "name": "stdout",
          "text": [
            "<class 'pandas.core.frame.DataFrame'>\n",
            "RangeIndex: 9172 entries, 0 to 9171\n",
            "Data columns (total 31 columns):\n",
            " #   Column                     Non-Null Count  Dtype \n",
            "---  ------                     --------------  ----- \n",
            " 0   Record ID                  9172 non-null   int64 \n",
            " 1   age                        9172 non-null   int64 \n",
            " 2   sex                        9172 non-null   object\n",
            " 3   on thyroxine               9172 non-null   object\n",
            " 4   query on thyroxine         9172 non-null   object\n",
            " 5   on antithyroid medication  9172 non-null   object\n",
            " 6   sick                       9172 non-null   object\n",
            " 7   pregnant                   9172 non-null   object\n",
            " 8   thyroid surgery            9172 non-null   object\n",
            " 9   I131 treatment             9172 non-null   object\n",
            " 10  query hypothyroid          9172 non-null   object\n",
            " 11  query hyperthyroid         9172 non-null   object\n",
            " 12  lithium                    9172 non-null   object\n",
            " 13  goitre                     9172 non-null   object\n",
            " 14  tumor                      9172 non-null   object\n",
            " 15  hypopituitary              9172 non-null   object\n",
            " 16  psych                      9172 non-null   object\n",
            " 17  TSH measured               9172 non-null   object\n",
            " 18  TSH                        9172 non-null   object\n",
            " 19  T3 measured                9172 non-null   object\n",
            " 20  T3                         9172 non-null   object\n",
            " 21  TT4 measured               9172 non-null   object\n",
            " 22  TT4                        9172 non-null   object\n",
            " 23  T4U measured               9172 non-null   object\n",
            " 24  T4U                        9172 non-null   object\n",
            " 25  FTI measured               9172 non-null   object\n",
            " 26  FTI                        9172 non-null   object\n",
            " 27  TBG measured               9172 non-null   object\n",
            " 28  TBG                        9172 non-null   object\n",
            " 29  referral source            9172 non-null   object\n",
            " 30  Condition                  9172 non-null   object\n",
            "dtypes: int64(2), object(29)\n",
            "memory usage: 2.2+ MB\n",
            "None\n",
            "   Record ID  age sex on thyroxine query on thyroxine  \\\n",
            "0  840801013   29   F            f                  f   \n",
            "1  840801014   29   F            f                  f   \n",
            "2  840801042   41   F            f                  f   \n",
            "3  840803046   36   F            f                  f   \n",
            "4  840803047   32   F            f                  f   \n",
            "\n",
            "  on antithyroid medication sick pregnant thyroid surgery I131 treatment  ...  \\\n",
            "0                         f    f        f               f              f  ...   \n",
            "1                         f    f        f               f              f  ...   \n",
            "2                         f    f        f               f              f  ...   \n",
            "3                         f    f        f               f              f  ...   \n",
            "4                         f    f        f               f              f  ...   \n",
            "\n",
            "  TT4 measured  TT4 T4U measured T4U FTI measured FTI TBG measured TBG  \\\n",
            "0            f    ?            f   ?            f   ?            f   ?   \n",
            "1            t  128            f   ?            f   ?            f   ?   \n",
            "2            f    ?            f   ?            f   ?            t  11   \n",
            "3            f    ?            f   ?            f   ?            t  26   \n",
            "4            f    ?            f   ?            f   ?            t  36   \n",
            "\n",
            "  referral source     Condition  \n",
            "0           other  NO CONDITION  \n",
            "1           other  NO CONDITION  \n",
            "2           other  NO CONDITION  \n",
            "3           other  NO CONDITION  \n",
            "4           other             S  \n",
            "\n",
            "[5 rows x 31 columns]\n",
            "Record ID                     int64\n",
            "age                           int64\n",
            "sex                          object\n",
            "on thyroxine                 object\n",
            "query on thyroxine           object\n",
            "on antithyroid medication    object\n",
            "sick                         object\n",
            "pregnant                     object\n",
            "thyroid surgery              object\n",
            "I131 treatment               object\n",
            "query hypothyroid            object\n",
            "query hyperthyroid           object\n",
            "lithium                      object\n",
            "goitre                       object\n",
            "tumor                        object\n",
            "hypopituitary                object\n",
            "psych                        object\n",
            "TSH measured                 object\n",
            "TSH                          object\n",
            "T3 measured                  object\n",
            "T3                           object\n",
            "TT4 measured                 object\n",
            "TT4                          object\n",
            "T4U measured                 object\n",
            "T4U                          object\n",
            "FTI measured                 object\n",
            "FTI                          object\n",
            "TBG measured                 object\n",
            "TBG                          object\n",
            "referral source              object\n",
            "Condition                    object\n",
            "dtype: object\n",
            "Categorical Attributes: Index(['sex', 'on thyroxine', 'query on thyroxine',\n",
            "       'on antithyroid medication', 'sick', 'pregnant', 'thyroid surgery',\n",
            "       'I131 treatment', 'query hypothyroid', 'query hyperthyroid', 'lithium',\n",
            "       'goitre', 'tumor', 'hypopituitary', 'psych', 'TSH measured', 'TSH',\n",
            "       'T3 measured', 'T3', 'TT4 measured', 'TT4', 'T4U measured', 'T4U',\n",
            "       'FTI measured', 'FTI', 'TBG measured', 'TBG', 'referral source',\n",
            "       'Condition'],\n",
            "      dtype='object')\n",
            "    Record ID  age sex on thyroxine query on thyroxine  \\\n",
            "0   840801013   29   F            f                  f   \n",
            "1   840801014   29   F            f                  f   \n",
            "2   840801042   41   F            f                  f   \n",
            "3   840803046   36   F            f                  f   \n",
            "4   840803047   32   F            f                  f   \n",
            "5   840803048   60   F            f                  f   \n",
            "6   840803068   77   F            f                  f   \n",
            "7   840807019   28   F            f                  f   \n",
            "8   840808060   28   F            f                  f   \n",
            "9   840808073   28   F            f                  f   \n",
            "10  840810016   54   F            f                  f   \n",
            "11  840813022   42   F            f                  f   \n",
            "12  840813060   51   M            t                  f   \n",
            "13  840813068   51   F            f                  f   \n",
            "14  840814014   37   F            f                  f   \n",
            "\n",
            "   on antithyroid medication sick pregnant thyroid surgery I131 treatment  \\\n",
            "0                          f    f        f               f              f   \n",
            "1                          f    f        f               f              f   \n",
            "2                          f    f        f               f              f   \n",
            "3                          f    f        f               f              f   \n",
            "4                          f    f        f               f              f   \n",
            "5                          f    f        f               f              f   \n",
            "6                          f    f        f               f              f   \n",
            "7                          f    f        f               f              f   \n",
            "8                          f    f        f               f              f   \n",
            "9                          f    f        f               f              f   \n",
            "10                         f    f        f               f              f   \n",
            "11                         f    f        f               f              f   \n",
            "12                         f    f        f               f              f   \n",
            "13                         f    f        f               f              f   \n",
            "14                         f    f        f               f              f   \n",
            "\n",
            "    ... TT4 measured  TT4 T4U measured T4U FTI measured FTI TBG measured TBG  \\\n",
            "0   ...            f    ?            f   ?            f   ?            f   ?   \n",
            "1   ...            t  128            f   ?            f   ?            f   ?   \n",
            "2   ...            f    ?            f   ?            f   ?            t  11   \n",
            "3   ...            f    ?            f   ?            f   ?            t  26   \n",
            "4   ...            f    ?            f   ?            f   ?            t  36   \n",
            "5   ...            f    ?            f   ?            f   ?            t  26   \n",
            "6   ...            f    ?            f   ?            f   ?            t  21   \n",
            "7   ...            t  116            f   ?            f   ?            f   ?   \n",
            "8   ...            t   76            f   ?            f   ?            f   ?   \n",
            "9   ...            t   83            f   ?            f   ?            f   ?   \n",
            "10  ...            t  133            f   ?            f   ?            f   ?   \n",
            "11  ...            t  105            f   ?            f   ?            f   ?   \n",
            "12  ...            f    ?            f   ?            f   ?            f   ?   \n",
            "13  ...            t  116            f   ?            f   ?            f   ?   \n",
            "14  ...            f    ?            f   ?            f   ?            f   ?   \n",
            "\n",
            "   referral source     Condition  \n",
            "0              0.0  NO CONDITION  \n",
            "1              0.0  NO CONDITION  \n",
            "2              0.0  NO CONDITION  \n",
            "3              0.0  NO CONDITION  \n",
            "4              0.0             S  \n",
            "5              0.0  NO CONDITION  \n",
            "6              0.0  NO CONDITION  \n",
            "7              1.0  NO CONDITION  \n",
            "8              0.0  NO CONDITION  \n",
            "9              0.0  NO CONDITION  \n",
            "10             0.0  NO CONDITION  \n",
            "11             0.0  NO CONDITION  \n",
            "12             0.0  NO CONDITION  \n",
            "13             0.0  NO CONDITION  \n",
            "14             0.0  NO CONDITION  \n",
            "\n",
            "[15 rows x 31 columns]\n",
            "   Record ID  age  sex_F  sex_M  on thyroxine_t  query on thyroxine_t  \\\n",
            "0  840801013   29   True  False           False                 False   \n",
            "1  840801014   29   True  False           False                 False   \n",
            "2  840801042   41   True  False           False                 False   \n",
            "3  840803046   36   True  False           False                 False   \n",
            "4  840803047   32   True  False           False                 False   \n",
            "\n",
            "   on antithyroid medication_t  sick_t  pregnant_t  thyroid surgery_t  ...  \\\n",
            "0                        False   False       False              False  ...   \n",
            "1                        False   False       False              False  ...   \n",
            "2                        False   False       False              False  ...   \n",
            "3                        False   False       False              False  ...   \n",
            "4                        False   False       False              False  ...   \n",
            "\n",
            "   Condition_MI  Condition_MK  Condition_N  Condition_NO CONDITION  \\\n",
            "0         False         False        False                    True   \n",
            "1         False         False        False                    True   \n",
            "2         False         False        False                    True   \n",
            "3         False         False        False                    True   \n",
            "4         False         False        False                   False   \n",
            "\n",
            "   Condition_O  Condition_OI  Condition_P  Condition_Q  Condition_R  \\\n",
            "0        False         False        False        False        False   \n",
            "1        False         False        False        False        False   \n",
            "2        False         False        False        False        False   \n",
            "3        False         False        False        False        False   \n",
            "4        False         False        False        False        False   \n",
            "\n",
            "   Condition_S  \n",
            "0        False  \n",
            "1        False  \n",
            "2        False  \n",
            "3        False  \n",
            "4         True  \n",
            "\n",
            "[5 rows x 1365 columns]\n",
            "Range of Numeric Variables:\n",
            "     Record ID    age\n",
            "min  840801013      1\n",
            "max  870119035  65526\n",
            "Record ID         0\n",
            "age               0\n",
            "sex_F             0\n",
            "sex_M             0\n",
            "on thyroxine_t    0\n",
            "                 ..\n",
            "Condition_OI      0\n",
            "Condition_P       0\n",
            "Condition_Q       0\n",
            "Condition_R       0\n",
            "Condition_S       0\n",
            "Length: 1365, dtype: int64\n",
            "outlier detection: \n"
          ]
        },
        {
          "output_type": "display_data",
          "data": {
            "text/plain": [
              "<Figure size 1000x600 with 1 Axes>"
            ],
            "image/png": "[encoded data removed]"
          },
          "metadata": {}
        },
        {
          "output_type": "stream",
          "name": "stdout",
          "text": [
            "Mean of Numeric Variables:\n",
            "Record ID    8.529473e+08\n",
            "age          7.355582e+01\n",
            "dtype: float64\n",
            "\n",
            "Variance of Numeric Variables:\n",
            "Record ID    5.748625e+13\n",
            "age          1.401801e+06\n",
            "dtype: float64\n",
            "\n",
            "Standard Deviation of Numeric Variables:\n",
            "Record ID    7.581969e+06\n",
            "age          1.183977e+03\n",
            "dtype: float64\n"
          ]
        }
      ],
      "source": [
        "import pandas as pd\n",
        "import seaborn as sns\n",
        "import matplotlib.pyplot as plt\n",
        "\n",
        "file_path = '/content/drive/MyDrive/Colab Notebooks/Lab Session Data.xlsx'\n",
        "df=pd.read_excel(file_path, sheet_name='thyroid0387_UCI')\n",
        "\n",
        "print(df.info())\n",
        "print(df.head())\n",
        "print(df.dtypes)\n",
        "\n",
        "categorical_cols = df.select_dtypes(include=['object']).columns\n",
        "print(\"Categorical Attributes:\", categorical_cols)\n",
        "\n",
        "# label encoding for ordinal data\n",
        "from sklearn.preprocessing import LabelEncoder\n",
        "refSrc_order = {\"other\": 0, \"SVI\": 1, \"SVHC\": 2, \"SVHD\": 3,\"STMW\": 4}\n",
        "df[\"referral source\"] = df[\"referral source\"].map(refSrc_order)\n",
        "print(df.head(15))\n",
        "\n",
        "# OHE for nominal data\n",
        "nominal_cols = [col for col in categorical_cols if col not in refSrc_order]\n",
        "df = pd.get_dummies(df, columns=nominal_cols, drop_first=True)\n",
        "print(df.head())\n",
        "\n",
        "# range\n",
        "numeric_cols = df.select_dtypes(include=['int64', 'float64'])\n",
        "print(\"Range of Numeric Variables:\")\n",
        "print(numeric_cols.agg(['min', 'max']))\n",
        "# check row = 8107\n",
        "\n",
        "# missing values\n",
        "print(df.isnull().sum())\n",
        "\n",
        "print(\"outlier detection: \")\n",
        "plt.figure(figsize=(10, 6))\n",
        "sns.boxplot(data=numeric_cols)\n",
        "plt.xticks(rotation=45)\n",
        "plt.title(\"Boxplot for Outlier Detection\")\n",
        "plt.show()\n",
        "\n",
        "#  Calculate Mean & Variance (or Standard Deviation)\n",
        "print(\"Mean of Numeric Variables:\")\n",
        "print(numeric_cols.mean())\n",
        "\n",
        "print(\"\\nVariance of Numeric Variables:\")\n",
        "print(numeric_cols.var())\n",
        "\n",
        "print(\"\\nStandard Deviation of Numeric Variables:\")\n",
        "print(numeric_cols.std())"
      ]
    },
    {
      "cell_type": "markdown",
      "metadata": {
        "id": "afekaNttj1ap"
      },
      "source": [
        "6)  Data Imputation: employ appropriate central tendencies to fill the missing values in the data\n",
        "variables. Employ following guidance."
      ]
    },
    {
      "cell_type": "code",
      "execution_count": null,
      "metadata": {
        "colab": {
          "base_uri": "https://localhost:8080/"
        },
        "id": "ti7vtitUj7wP",
        "outputId": "830d41cc-d76b-447e-9068-3905ffb16ff1"
      },
      "outputs": [
        {
          "name": "stdout",
          "output_type": "stream",
          "text": [
            "Missing Values in Each Column:\n",
            "Series([], dtype: int64)\n"
          ]
        }
      ],
      "source": [
        "missing_values = df.isnull().sum()\n",
        "print(\"Missing Values in Each Column:\")\n",
        "print(missing_values[missing_values > 0])"
      ]
    },
    {
      "cell_type": "code",
      "execution_count": null,
      "metadata": {
        "colab": {
          "base_uri": "https://localhost:8080/"
        },
        "id": "rIK-sE_Qj9t7",
        "outputId": "b04ec7c9-799b-4a8e-afe4-524f853ee7f5"
      },
      "outputs": [
        {
          "name": "stdout",
          "output_type": "stream",
          "text": [
            "Numeric Columns with Outliers: ['age']\n",
            "Numeric Columns without Outliers: ['Record ID']\n"
          ]
        }
      ],
      "source": [
        "def has_outliers(series):\n",
        "    Q1 = series.quantile(0.25)\n",
        "    Q3 = series.quantile(0.75)\n",
        "    IQR = Q3 - Q1\n",
        "    lower_bound = Q1 - 1.5 * IQR\n",
        "    upper_bound = Q3 + 1.5 * IQR\n",
        "    return series[(series < lower_bound) | (series > upper_bound)].count() > 0\n",
        "\n",
        "numeric_cols = df.select_dtypes(include=['int64', 'float64']).columns\n",
        "outlier_cols = [col for col in numeric_cols if has_outliers(df[col].dropna())]\n",
        "\n",
        "print(\"Numeric Columns with Outliers:\", outlier_cols)\n",
        "print(\"Numeric Columns without Outliers:\", list(set(numeric_cols) - set(outlier_cols)))"
      ]
    },
    {
      "cell_type": "code",
      "execution_count": null,
      "metadata": {
        "colab": {
          "base_uri": "https://localhost:8080/"
        },
        "id": "Fh47Oo5Tknbq",
        "outputId": "e90926ae-9e05-48a4-a681-de6e67784877"
      },
      "outputs": [
        {
          "name": "stdout",
          "output_type": "stream",
          "text": [
            "Missing values after filling:\n",
            "Record ID         0\n",
            "age               0\n",
            "sex_F             0\n",
            "sex_M             0\n",
            "on thyroxine_t    0\n",
            "                 ..\n",
            "Condition_OI      0\n",
            "Condition_P       0\n",
            "Condition_Q       0\n",
            "Condition_R       0\n",
            "Condition_S       0\n",
            "Length: 1365, dtype: int64\n"
          ]
        },
        {
          "name": "stderr",
          "output_type": "stream",
          "text": [
            "<ipython-input-15-81c3e345fb99>:2: FutureWarning: A value is trying to be set on a copy of a DataFrame or Series through chained assignment using an inplace method.\n",
            "The behavior will change in pandas 3.0. This inplace method will never work because the intermediate object on which we are setting values always behaves as a copy.\n",
            "\n",
            "For example, when doing 'df[col].method(value, inplace=True)', try using 'df.method({col: value}, inplace=True)' or df[col] = df[col].method(value) instead, to perform the operation inplace on the original object.\n",
            "\n",
            "\n",
            "  df[col].fillna(df[col].mean(), inplace=True)\n",
            "<ipython-input-15-81c3e345fb99>:5: FutureWarning: A value is trying to be set on a copy of a DataFrame or Series through chained assignment using an inplace method.\n",
            "The behavior will change in pandas 3.0. This inplace method will never work because the intermediate object on which we are setting values always behaves as a copy.\n",
            "\n",
            "For example, when doing 'df[col].method(value, inplace=True)', try using 'df.method({col: value}, inplace=True)' or df[col] = df[col].method(value) instead, to perform the operation inplace on the original object.\n",
            "\n",
            "\n",
            "  df[col].fillna(df[col].median(), inplace=True)\n"
          ]
        }
      ],
      "source": [
        "for col in set(numeric_cols) - set(outlier_cols):\n",
        "    df[col].fillna(df[col].mean(), inplace=True)\n",
        "\n",
        "for col in outlier_cols:\n",
        "    df[col].fillna(df[col].median(), inplace=True)\n",
        "\n",
        "categorical_cols = df.select_dtypes(include=['object']).columns\n",
        "for col in categorical_cols:\n",
        "    df[col].fillna(df[col].mode()[0], inplace=True)\n",
        "\n",
        "print(\"Missing values after filling:\")\n",
        "print(df.isnull().sum())"
      ]
    },
    {
      "cell_type": "markdown",
      "metadata": {
        "id": "tcTKuopEk-3F"
      },
      "source": [
        "7)  Data Normalization / Scaling: from the data study, identify the attributes which may need\n",
        "normalization. Employ appropriate normalization techniques to create normalized set of data."
      ]
    },
    {
      "cell_type": "code",
      "execution_count": null,
      "metadata": {
        "colab": {
          "base_uri": "https://localhost:8080/"
        },
        "id": "JgV-wk_Yk_SY",
        "outputId": "38ba17ef-2ae1-4025-9b10-bb50b007d477"
      },
      "outputs": [
        {
          "name": "stdout",
          "output_type": "stream",
          "text": [
            "Range of Numeric Variables:\n",
            "     Record ID    age\n",
            "min  840801013      1\n",
            "max  870119035  65526\n"
          ]
        }
      ],
      "source": [
        "from sklearn.preprocessing import MinMaxScaler, RobustScaler\n",
        "numeric_cols = df.select_dtypes(include=['int64', 'float64'])\n",
        "print(\"Range of Numeric Variables:\")\n",
        "print(numeric_cols.agg(['min', 'max']))"
      ]
    },
    {
      "cell_type": "code",
      "execution_count": null,
      "metadata": {
        "colab": {
          "base_uri": "https://localhost:8080/"
        },
        "id": "J0iqGMs5lXRn",
        "outputId": "578d9af8-c537-4a52-c11f-195a95437fa1"
      },
      "outputs": [
        {
          "name": "stdout",
          "output_type": "stream",
          "text": [
            "      Record ID       age  sex_F  sex_M  on thyroxine_t  query on thyroxine_t  \\\n",
            "0  0.000000e+00 -0.838710   True  False           False                 False   \n",
            "1  3.410871e-08 -0.838710   True  False           False                 False   \n",
            "2  9.891527e-07 -0.451613   True  False           False                 False   \n",
            "3  6.934301e-05 -0.612903   True  False           False                 False   \n",
            "4  6.937712e-05 -0.741935   True  False           False                 False   \n",
            "\n",
            "   on antithyroid medication_t  sick_t  pregnant_t  thyroid surgery_t  ...  \\\n",
            "0                        False   False       False              False  ...   \n",
            "1                        False   False       False              False  ...   \n",
            "2                        False   False       False              False  ...   \n",
            "3                        False   False       False              False  ...   \n",
            "4                        False   False       False              False  ...   \n",
            "\n",
            "   Condition_MI  Condition_MK  Condition_N  Condition_NO CONDITION  \\\n",
            "0         False         False        False                    True   \n",
            "1         False         False        False                    True   \n",
            "2         False         False        False                    True   \n",
            "3         False         False        False                    True   \n",
            "4         False         False        False                   False   \n",
            "\n",
            "   Condition_O  Condition_OI  Condition_P  Condition_Q  Condition_R  \\\n",
            "0        False         False        False        False        False   \n",
            "1        False         False        False        False        False   \n",
            "2        False         False        False        False        False   \n",
            "3        False         False        False        False        False   \n",
            "4        False         False        False        False        False   \n",
            "\n",
            "   Condition_S  \n",
            "0        False  \n",
            "1        False  \n",
            "2        False  \n",
            "3        False  \n",
            "4         True  \n",
            "\n",
            "[5 rows x 1365 columns]\n"
          ]
        }
      ],
      "source": [
        "df_scaled = df.copy()\n",
        "for col in numeric_cols:\n",
        "    if has_outliers(df[col]):\n",
        "        df_scaled[col] = RobustScaler().fit_transform(df[[col]])\n",
        "    else:\n",
        "        df_scaled[col] = MinMaxScaler().fit_transform(df[[col]])\n",
        "\n",
        "print(df_scaled.head())"
      ]
    },
    {
      "cell_type": "markdown",
      "metadata": {
        "id": "pTHavpdWlbxC"
      },
      "source": [
        "8) Similarity Measure: Take the first 2 observation vectors from the dataset. Consider only the\n",
        "attributes (direct or derived) with binary values for these vectors (ignore other attributes). Calculate\n",
        "the Jaccard Coefficient (JC) and Simple Matching Coefficient (SMC) between the document vectors.\n",
        "Use first vector for each document for this. Compare the values for JC and SMC and judge the\n",
        "appropriateness of each of them."
      ]
    },
    {
      "cell_type": "code",
      "execution_count": null,
      "metadata": {
        "colab": {
          "base_uri": "https://localhost:8080/"
        },
        "id": "nD2ncRjmlccQ",
        "outputId": "45b151b5-319e-4739-a37d-559b73b646f3"
      },
      "outputs": [
        {
          "output_type": "stream",
          "name": "stdout",
          "text": [
            "Binary Attributes: ['sex_F', 'sex_M', 'on thyroxine_t', 'query on thyroxine_t', 'on antithyroid medication_t', 'sick_t', 'pregnant_t', 'thyroid surgery_t', 'I131 treatment_t', 'query hypothyroid_t', 'query hyperthyroid_t', 'lithium_t', 'goitre_t', 'tumor_t', 'hypopituitary_t', 'psych_t', 'TSH measured_t', 'TSH_0.01', 'TSH_0.015', 'TSH_0.02', 'TSH_0.025', 'TSH_0.03', 'TSH_0.035', 'TSH_0.04', 'TSH_0.045', 'TSH_0.05', 'TSH_0.055', 'TSH_0.06', 'TSH_0.065', 'TSH_0.07', 'TSH_0.075', 'TSH_0.08', 'TSH_0.085', 'TSH_0.09', 'TSH_0.095', 'TSH_0.1', 'TSH_0.105', 'TSH_0.11', 'TSH_0.115', 'TSH_0.12', 'TSH_0.125', 'TSH_0.13', 'TSH_0.135', 'TSH_0.14', 'TSH_0.15', 'TSH_0.16', 'TSH_0.17', 'TSH_0.18', 'TSH_0.19', 'TSH_0.2', 'TSH_0.21', 'TSH_0.22', 'TSH_0.23', 'TSH_0.24', 'TSH_0.25', 'TSH_0.255', 'TSH_0.26', 'TSH_0.27', 'TSH_0.28', 'TSH_0.29', 'TSH_0.3', 'TSH_0.31', 'TSH_0.32', 'TSH_0.33', 'TSH_0.34', 'TSH_0.35', 'TSH_0.36', 'TSH_0.37', 'TSH_0.38', 'TSH_0.39', 'TSH_0.4', 'TSH_0.41', 'TSH_0.42', 'TSH_0.43', 'TSH_0.44', 'TSH_0.45', 'TSH_0.46', 'TSH_0.47', 'TSH_0.48', 'TSH_0.49', 'TSH_0.5', 'TSH_0.51', 'TSH_0.52', 'TSH_0.53', 'TSH_0.54', 'TSH_0.55', 'TSH_0.56', 'TSH_0.57', 'TSH_0.58', 'TSH_0.59', 'TSH_0.6', 'TSH_0.61', 'TSH_0.62', 'TSH_0.63', 'TSH_0.64', 'TSH_0.65', 'TSH_0.66', 'TSH_0.67', 'TSH_0.68', 'TSH_0.69', 'TSH_0.7', 'TSH_0.71', 'TSH_0.72', 'TSH_0.73', 'TSH_0.74', 'TSH_0.75', 'TSH_0.76', 'TSH_0.77', 'TSH_0.78', 'TSH_0.79', 'TSH_0.8', 'TSH_0.81', 'TSH_0.82', 'TSH_0.83', 'TSH_0.84', 'TSH_0.85', 'TSH_0.86', 'TSH_0.87', 'TSH_0.88', 'TSH_0.89', 'TSH_0.9', 'TSH_0.91', 'TSH_0.92', 'TSH_0.93', 'TSH_0.94', 'TSH_0.95', 'TSH_0.96', 'TSH_0.97', 'TSH_0.98', 'TSH_0.99', 'TSH_1', 'TSH_1.01', 'TSH_1.02', 'TSH_1.03', 'TSH_1.04', 'TSH_1.05', 'TSH_1.1', 'TSH_1.12', 'TSH_1.14', 'TSH_1.2', 'TSH_1.3', 'TSH_1.4', 'TSH_1.5', 'TSH_1.6', 'TSH_1.7', 'TSH_1.8', 'TSH_1.83', 'TSH_1.9', 'TSH_2', 'TSH_2.1', 'TSH_2.2', 'TSH_2.3', 'TSH_2.4', 'TSH_2.5', 'TSH_2.6', 'TSH_2.7', 'TSH_2.8', 'TSH_2.9', 'TSH_3', 'TSH_3.1', 'TSH_3.2', 'TSH_3.3', 'TSH_3.4', 'TSH_3.5', 'TSH_3.6', 'TSH_3.7', 'TSH_3.8', 'TSH_3.9', 'TSH_4', 'TSH_4.01', 'TSH_4.1', 'TSH_4.2', 'TSH_4.3', 'TSH_4.4', 'TSH_4.5', 'TSH_4.6', 'TSH_4.7', 'TSH_4.8', 'TSH_4.9', 'TSH_5', 'TSH_5.1', 'TSH_5.2', 'TSH_5.3', 'TSH_5.4', 'TSH_5.5', 'TSH_5.6', 'TSH_5.7', 'TSH_5.73', 'TSH_5.8', 'TSH_5.9', 'TSH_6', 'TSH_6.1', 'TSH_6.2', 'TSH_6.3', 'TSH_6.4', 'TSH_6.5', 'TSH_6.6', 'TSH_6.7', 'TSH_6.8', 'TSH_6.9', 'TSH_7', 'TSH_7.1', 'TSH_7.2', 'TSH_7.3', 'TSH_7.4', 'TSH_7.5', 'TSH_7.6', 'TSH_7.7', 'TSH_7.8', 'TSH_7.9', 'TSH_8', 'TSH_8.099999', 'TSH_8.2', 'TSH_8.299999', 'TSH_8.4', 'TSH_8.5', 'TSH_8.599999', 'TSH_8.7', 'TSH_8.799999', 'TSH_8.9', 'TSH_9', 'TSH_9.099999', 'TSH_9.2', 'TSH_9.299999', 'TSH_9.4', 'TSH_9.5', 'TSH_9.599999', 'TSH_9.7', 'TSH_9.799999', 'TSH_9.9', 'TSH_10', 'TSH_10.299999', 'TSH_10.7', 'TSH_11', 'TSH_11.099999', 'TSH_11.4', 'TSH_11.5', 'TSH_11.599999', 'TSH_11.9', 'TSH_12', 'TSH_12.099999', 'TSH_13', 'TSH_13.2', 'TSH_13.299999', 'TSH_13.7', 'TSH_14', 'TSH_14.299999', 'TSH_14.4', 'TSH_14.799999', 'TSH_15', 'TSH_15.299999', 'TSH_16', 'TSH_16.5', 'TSH_16.799999', 'TSH_17', 'TSH_17.4', 'TSH_18', 'TSH_18.4', 'TSH_19', 'TSH_19.199999', 'TSH_20', 'TSH_21', 'TSH_22', 'TSH_23', 'TSH_24', 'TSH_25', 'TSH_26', 'TSH_26.4', 'TSH_27', 'TSH_28', 'TSH_29', 'TSH_30', 'TSH_30.5', 'TSH_31', 'TSH_32', 'TSH_33', 'TSH_34', 'TSH_35', 'TSH_36', 'TSH_37', 'TSH_38', 'TSH_39', 'TSH_40', 'TSH_41', 'TSH_42', 'TSH_43', 'TSH_44', 'TSH_45', 'TSH_46', 'TSH_47', 'TSH_48', 'TSH_49', 'TSH_50', 'TSH_51', 'TSH_52', 'TSH_53', 'TSH_54', 'TSH_55', 'TSH_56', 'TSH_58', 'TSH_59', 'TSH_60', 'TSH_61', 'TSH_62', 'TSH_65', 'TSH_66', 'TSH_67', 'TSH_68', 'TSH_70', 'TSH_71', 'TSH_73', 'TSH_74', 'TSH_76', 'TSH_77', 'TSH_78', 'TSH_80', 'TSH_82', 'TSH_85', 'TSH_86', 'TSH_88', 'TSH_89', 'TSH_90', 'TSH_92', 'TSH_96', 'TSH_98', 'TSH_99', 'TSH_100', 'TSH_103', 'TSH_106', 'TSH_108', 'TSH_109', 'TSH_114', 'TSH_116', 'TSH_117', 'TSH_118', 'TSH_125', 'TSH_126', 'TSH_131', 'TSH_136', 'TSH_138', 'TSH_139', 'TSH_140', 'TSH_141', 'TSH_143', 'TSH_145', 'TSH_150', 'TSH_151', 'TSH_153', 'TSH_160', 'TSH_164', 'TSH_165', 'TSH_166', 'TSH_170', 'TSH_172', 'TSH_176', 'TSH_177', 'TSH_178', 'TSH_183', 'TSH_188', 'TSH_191', 'TSH_192', 'TSH_197', 'TSH_198', 'TSH_199', 'TSH_200', 'TSH_213', 'TSH_216', 'TSH_230', 'TSH_235', 'TSH_236', 'TSH_252', 'TSH_260', 'TSH_288', 'TSH_393', 'TSH_400', 'TSH_430', 'TSH_436', 'TSH_440', 'TSH_460', 'TSH_468', 'TSH_472', 'TSH_478', 'TSH_494', 'TSH_500', 'TSH_530', 'TSH_?', 'T3 measured_t', 'T3_0.1', 'T3_0.2', 'T3_0.3', 'T3_0.4', 'T3_0.5', 'T3_0.6', 'T3_0.69', 'T3_0.7', 'T3_0.8', 'T3_0.83', 'T3_0.9', 'T3_0.93', 'T3_1', 'T3_1.1', 'T3_1.2', 'T3_1.3', 'T3_1.4', 'T3_1.44', 'T3_1.5', 'T3_1.6', 'T3_1.7', 'T3_1.8', 'T3_1.9', 'T3_2', 'T3_2.1', 'T3_2.2', 'T3_2.3', 'T3_2.4', 'T3_2.5', 'T3_2.6', 'T3_2.7', 'T3_2.8', 'T3_2.9', 'T3_3', 'T3_3.1', 'T3_3.2', 'T3_3.3', 'T3_3.4', 'T3_3.5', 'T3_3.6', 'T3_3.7', 'T3_3.8', 'T3_3.9', 'T3_4', 'T3_4.1', 'T3_4.2', 'T3_4.3', 'T3_4.4', 'T3_4.5', 'T3_4.6', 'T3_4.7', 'T3_4.8', 'T3_4.9', 'T3_5', 'T3_5.1', 'T3_5.2', 'T3_5.3', 'T3_5.4', 'T3_5.5', 'T3_5.6', 'T3_5.7', 'T3_5.9', 'T3_6', 'T3_6.1', 'T3_6.2', 'T3_6.4', 'T3_6.5', 'T3_6.6', 'T3_6.7', 'T3_6.8', 'T3_6.9', 'T3_7', 'T3_7.1', 'T3_7.3', 'T3_7.6', 'T3_8', 'T3_8.099999', 'T3_8.5', 'T3_8.599999', 'T3_8.9', 'T3_9.5', 'T3_10.599999', 'T3_13.299999', 'T3_18', 'T3_?', 'TT4 measured_t', 'TT4_2.5', 'TT4_2.9', 'TT4_3', 'TT4_3.9', 'TT4_4', 'TT4_4.06', 'TT4_4.1', 'TT4_4.2', 'TT4_4.8', 'TT4_5', 'TT4_5.8', 'TT4_6', 'TT4_7.5', 'TT4_7.6', 'TT4_8.4', 'TT4_9', 'TT4_9.5', 'TT4_9.7', 'TT4_10', 'TT4_11', 'TT4_12', 'TT4_13', 'TT4_14', 'TT4_15', 'TT4_16', 'TT4_17', 'TT4_18', 'TT4_19', 'TT4_20', 'TT4_21', 'TT4_22', 'TT4_23', 'TT4_24', 'TT4_25', 'TT4_27', 'TT4_28', 'TT4_29', 'TT4_30', 'TT4_31', 'TT4_32', 'TT4_33', 'TT4_34', 'TT4_35', 'TT4_36', 'TT4_37', 'TT4_38', 'TT4_39', 'TT4_40', 'TT4_41', 'TT4_42', 'TT4_43', 'TT4_44', 'TT4_45', 'TT4_46', 'TT4_47', 'TT4_48', 'TT4_49', 'TT4_50', 'TT4_51', 'TT4_52', 'TT4_53', 'TT4_54', 'TT4_55', 'TT4_56', 'TT4_57', 'TT4_58', 'TT4_59', 'TT4_60', 'TT4_61', 'TT4_62', 'TT4_63', 'TT4_64', 'TT4_65', 'TT4_66', 'TT4_67', 'TT4_68', 'TT4_69', 'TT4_70', 'TT4_71', 'TT4_72', 'TT4_73', 'TT4_74', 'TT4_75', 'TT4_76', 'TT4_77', 'TT4_78', 'TT4_79', 'TT4_80', 'TT4_81', 'TT4_82', 'TT4_83', 'TT4_84', 'TT4_85', 'TT4_86', 'TT4_87', 'TT4_88', 'TT4_89', 'TT4_90', 'TT4_91', 'TT4_92', 'TT4_93', 'TT4_94', 'TT4_95', 'TT4_96', 'TT4_97', 'TT4_98', 'TT4_99', 'TT4_100', 'TT4_101', 'TT4_102', 'TT4_103', 'TT4_104', 'TT4_105', 'TT4_106', 'TT4_107', 'TT4_108', 'TT4_109', 'TT4_110', 'TT4_111', 'TT4_112', 'TT4_113', 'TT4_114', 'TT4_115', 'TT4_116', 'TT4_117', 'TT4_118', 'TT4_119', 'TT4_120', 'TT4_121', 'TT4_122', 'TT4_123', 'TT4_124', 'TT4_125', 'TT4_126', 'TT4_127', 'TT4_128', 'TT4_129', 'TT4_130', 'TT4_131', 'TT4_132', 'TT4_133', 'TT4_134', 'TT4_135', 'TT4_136', 'TT4_137', 'TT4_138', 'TT4_139', 'TT4_140', 'TT4_141', 'TT4_142', 'TT4_143', 'TT4_144', 'TT4_145', 'TT4_146', 'TT4_147', 'TT4_148', 'TT4_149', 'TT4_150', 'TT4_151', 'TT4_152', 'TT4_153', 'TT4_154', 'TT4_155', 'TT4_156', 'TT4_157', 'TT4_158', 'TT4_159', 'TT4_160', 'TT4_161', 'TT4_162', 'TT4_163', 'TT4_164', 'TT4_165', 'TT4_166', 'TT4_167', 'TT4_168', 'TT4_169', 'TT4_170', 'TT4_171', 'TT4_172', 'TT4_173', 'TT4_174', 'TT4_175', 'TT4_176', 'TT4_177', 'TT4_178', 'TT4_179', 'TT4_180', 'TT4_181', 'TT4_182', 'TT4_183', 'TT4_184', 'TT4_185', 'TT4_186', 'TT4_187', 'TT4_188', 'TT4_189', 'TT4_190', 'TT4_191', 'TT4_192', 'TT4_193', 'TT4_194', 'TT4_195', 'TT4_196', 'TT4_197', 'TT4_198', 'TT4_199', 'TT4_200', 'TT4_201', 'TT4_202', 'TT4_203', 'TT4_204', 'TT4_205', 'TT4_206', 'TT4_207', 'TT4_208', 'TT4_209', 'TT4_210', 'TT4_211', 'TT4_212', 'TT4_213', 'TT4_214', 'TT4_215', 'TT4_216', 'TT4_217', 'TT4_218', 'TT4_219', 'TT4_220', 'TT4_221', 'TT4_222', 'TT4_223', 'TT4_224', 'TT4_225', 'TT4_226', 'TT4_228', 'TT4_230', 'TT4_231', 'TT4_232', 'TT4_233', 'TT4_234', 'TT4_235', 'TT4_236', 'TT4_237', 'TT4_238', 'TT4_239', 'TT4_240', 'TT4_242', 'TT4_244', 'TT4_245', 'TT4_246', 'TT4_247', 'TT4_248', 'TT4_249', 'TT4_250', 'TT4_252', 'TT4_253', 'TT4_255', 'TT4_256', 'TT4_257', 'TT4_258', 'TT4_260', 'TT4_261', 'TT4_263', 'TT4_268', 'TT4_269', 'TT4_272', 'TT4_273', 'TT4_275', 'TT4_278', 'TT4_280', 'TT4_287', 'TT4_289', 'TT4_292', 'TT4_296', 'TT4_301', 'TT4_302', 'TT4_308', 'TT4_333', 'TT4_359', 'TT4_372', 'TT4_386', 'TT4_395', 'TT4_410', 'TT4_430', 'TT4_450', 'TT4_600', 'TT4_?', 'T4U measured_t', 'T4U_0.19', 'T4U_0.2', 'T4U_0.25', 'T4U_0.28', 'T4U_0.29', 'T4U_0.3', 'T4U_0.31', 'T4U_0.32', 'T4U_0.34', 'T4U_0.35', 'T4U_0.36', 'T4U_0.37', 'T4U_0.38', 'T4U_0.4', 'T4U_0.41', 'T4U_0.42', 'T4U_0.44', 'T4U_0.45', 'T4U_0.46', 'T4U_0.47', 'T4U_0.48', 'T4U_0.49', 'T4U_0.5', 'T4U_0.51', 'T4U_0.52', 'T4U_0.53', 'T4U_0.54', 'T4U_0.55', 'T4U_0.56', 'T4U_0.57', 'T4U_0.58', 'T4U_0.59', 'T4U_0.6', 'T4U_0.61', 'T4U_0.62', 'T4U_0.63', 'T4U_0.64', 'T4U_0.65', 'T4U_0.66', 'T4U_0.67', 'T4U_0.68', 'T4U_0.69', 'T4U_0.7', 'T4U_0.71', 'T4U_0.72', 'T4U_0.73', 'T4U_0.74', 'T4U_0.75', 'T4U_0.76', 'T4U_0.77', 'T4U_0.78', 'T4U_0.79', 'T4U_0.8', 'T4U_0.81', 'T4U_0.82', 'T4U_0.83', 'T4U_0.84', 'T4U_0.85', 'T4U_0.86', 'T4U_0.87', 'T4U_0.88', 'T4U_0.89', 'T4U_0.9', 'T4U_0.91', 'T4U_0.92', 'T4U_0.93', 'T4U_0.94', 'T4U_0.944', 'T4U_0.95', 'T4U_0.96', 'T4U_0.97', 'T4U_0.98', 'T4U_0.99', 'T4U_1', 'T4U_1.01', 'T4U_1.02', 'T4U_1.03', 'T4U_1.04', 'T4U_1.05', 'T4U_1.06', 'T4U_1.07', 'T4U_1.08', 'T4U_1.09', 'T4U_1.1', 'T4U_1.11', 'T4U_1.12', 'T4U_1.13', 'T4U_1.14', 'T4U_1.15', 'T4U_1.16', 'T4U_1.17', 'T4U_1.18', 'T4U_1.19', 'T4U_1.2', 'T4U_1.21', 'T4U_1.22', 'T4U_1.23', 'T4U_1.24', 'T4U_1.25', 'T4U_1.26', 'T4U_1.27', 'T4U_1.28', 'T4U_1.29', 'T4U_1.3', 'T4U_1.31', 'T4U_1.32', 'T4U_1.33', 'T4U_1.34', 'T4U_1.35', 'T4U_1.36', 'T4U_1.37', 'T4U_1.38', 'T4U_1.39', 'T4U_1.4', 'T4U_1.41', 'T4U_1.42', 'T4U_1.43', 'T4U_1.44', 'T4U_1.45', 'T4U_1.46', 'T4U_1.47', 'T4U_1.48', 'T4U_1.49', 'T4U_1.5', 'T4U_1.51', 'T4U_1.52', 'T4U_1.53', 'T4U_1.54', 'T4U_1.55', 'T4U_1.56', 'T4U_1.57', 'T4U_1.58', 'T4U_1.59', 'T4U_1.6', 'T4U_1.61', 'T4U_1.62', 'T4U_1.63', 'T4U_1.64', 'T4U_1.65', 'T4U_1.66', 'T4U_1.67', 'T4U_1.68', 'T4U_1.69', 'T4U_1.7', 'T4U_1.71', 'T4U_1.73', 'T4U_1.74', 'T4U_1.75', 'T4U_1.76', 'T4U_1.77', 'T4U_1.78', 'T4U_1.79', 'T4U_1.8', 'T4U_1.81', 'T4U_1.82', 'T4U_1.83', 'T4U_1.84', 'T4U_1.86', 'T4U_1.87', 'T4U_1.88', 'T4U_1.89', 'T4U_1.93', 'T4U_1.94', 'T4U_1.95', 'T4U_1.96', 'T4U_1.97', 'T4U_2', 'T4U_2.01', 'T4U_2.02', 'T4U_2.03', 'T4U_2.12', 'T4U_2.15', 'T4U_2.16', 'T4U_2.32', 'T4U_2.33', 'T4U_?', 'FTI measured_t', 'FTI_2', 'FTI_2.4', 'FTI_2.5', 'FTI_2.8', 'FTI_3', 'FTI_3.1', 'FTI_3.4', 'FTI_3.5', 'FTI_3.84', 'FTI_4', 'FTI_4.15', 'FTI_4.5', 'FTI_4.85', 'FTI_5', 'FTI_5.4', 'FTI_5.5', 'FTI_6', 'FTI_6.6', 'FTI_7', 'FTI_7.5', 'FTI_7.6', 'FTI_8.299999', 'FTI_8.4', 'FTI_8.5', 'FTI_8.7', 'FTI_8.9', 'FTI_9', 'FTI_9.099999', 'FTI_10', 'FTI_11', 'FTI_12', 'FTI_13', 'FTI_14', 'FTI_15', 'FTI_16', 'FTI_17', 'FTI_18', 'FTI_19', 'FTI_20', 'FTI_21', 'FTI_22', 'FTI_23', 'FTI_24', 'FTI_25', 'FTI_26', 'FTI_27', 'FTI_28', 'FTI_29', 'FTI_31', 'FTI_32', 'FTI_33', 'FTI_34', 'FTI_35', 'FTI_36', 'FTI_37', 'FTI_38', 'FTI_39', 'FTI_40', 'FTI_41', 'FTI_42', 'FTI_43', 'FTI_44', 'FTI_45', 'FTI_46', 'FTI_47', 'FTI_48', 'FTI_49', 'FTI_50', 'FTI_51', 'FTI_52', 'FTI_53', 'FTI_54', 'FTI_55', 'FTI_56', 'FTI_57', 'FTI_58', 'FTI_59', 'FTI_60', 'FTI_61', 'FTI_62', 'FTI_63', 'FTI_64', 'FTI_65', 'FTI_66', 'FTI_67', 'FTI_68', 'FTI_69', 'FTI_70', 'FTI_71', 'FTI_72', 'FTI_73', 'FTI_74', 'FTI_75', 'FTI_76', 'FTI_77', 'FTI_78', 'FTI_79', 'FTI_80', 'FTI_81', 'FTI_82', 'FTI_83', 'FTI_84', 'FTI_85', 'FTI_86', 'FTI_87', 'FTI_88', 'FTI_89', 'FTI_90', 'FTI_91', 'FTI_92', 'FTI_93', 'FTI_94', 'FTI_95', 'FTI_96', 'FTI_97', 'FTI_98', 'FTI_99', 'FTI_100', 'FTI_101', 'FTI_102', 'FTI_103', 'FTI_104', 'FTI_105', 'FTI_106', 'FTI_107', 'FTI_108', 'FTI_109', 'FTI_110', 'FTI_111', 'FTI_112', 'FTI_113', 'FTI_114', 'FTI_115', 'FTI_116', 'FTI_117', 'FTI_118', 'FTI_119', 'FTI_120', 'FTI_121', 'FTI_122', 'FTI_123', 'FTI_124', 'FTI_125', 'FTI_126', 'FTI_127', 'FTI_128', 'FTI_129', 'FTI_130', 'FTI_131', 'FTI_132', 'FTI_133', 'FTI_134', 'FTI_135', 'FTI_136', 'FTI_137', 'FTI_138', 'FTI_139', 'FTI_140', 'FTI_141', 'FTI_142', 'FTI_143', 'FTI_144', 'FTI_145', 'FTI_146', 'FTI_147', 'FTI_148', 'FTI_149', 'FTI_150', 'FTI_151', 'FTI_152', 'FTI_153', 'FTI_154', 'FTI_155', 'FTI_156', 'FTI_157', 'FTI_158', 'FTI_159', 'FTI_160', 'FTI_161', 'FTI_162', 'FTI_163', 'FTI_164', 'FTI_165', 'FTI_166', 'FTI_167', 'FTI_168', 'FTI_169', 'FTI_170', 'FTI_171', 'FTI_172', 'FTI_173', 'FTI_174', 'FTI_175', 'FTI_176', 'FTI_177', 'FTI_178', 'FTI_179', 'FTI_180', 'FTI_181', 'FTI_182', 'FTI_183', 'FTI_184', 'FTI_185', 'FTI_186', 'FTI_187', 'FTI_188', 'FTI_189', 'FTI_190', 'FTI_191', 'FTI_192', 'FTI_193', 'FTI_194', 'FTI_195', 'FTI_196', 'FTI_197', 'FTI_198', 'FTI_199', 'FTI_200', 'FTI_201', 'FTI_202', 'FTI_203', 'FTI_204', 'FTI_205', 'FTI_206', 'FTI_207', 'FTI_208', 'FTI_209', 'FTI_210', 'FTI_211', 'FTI_212', 'FTI_213', 'FTI_214', 'FTI_215', 'FTI_216', 'FTI_217', 'FTI_218', 'FTI_219', 'FTI_220', 'FTI_221', 'FTI_222', 'FTI_223', 'FTI_224', 'FTI_226', 'FTI_227', 'FTI_228', 'FTI_231', 'FTI_232', 'FTI_233', 'FTI_235', 'FTI_236', 'FTI_237', 'FTI_238', 'FTI_239', 'FTI_240', 'FTI_241', 'FTI_242', 'FTI_243', 'FTI_244', 'FTI_245', 'FTI_247', 'FTI_249', 'FTI_251', 'FTI_253', 'FTI_254', 'FTI_255', 'FTI_256', 'FTI_257', 'FTI_258', 'FTI_259', 'FTI_262', 'FTI_263', 'FTI_264', 'FTI_265', 'FTI_266', 'FTI_268', 'FTI_271', 'FTI_272', 'FTI_273', 'FTI_274', 'FTI_280', 'FTI_281', 'FTI_283', 'FTI_288', 'FTI_290', 'FTI_291', 'FTI_297', 'FTI_298', 'FTI_299', 'FTI_305', 'FTI_308', 'FTI_312', 'FTI_316', 'FTI_321', 'FTI_325', 'FTI_329', 'FTI_332', 'FTI_334', 'FTI_337', 'FTI_345', 'FTI_347', 'FTI_349', 'FTI_354', 'FTI_356', 'FTI_362', 'FTI_369', 'FTI_370', 'FTI_378', 'FTI_395', 'FTI_428', 'FTI_445', 'FTI_450', 'FTI_482', 'FTI_485', 'FTI_519', 'FTI_546', 'FTI_550', 'FTI_612', 'FTI_634', 'FTI_642', 'FTI_650', 'FTI_839', 'FTI_881', 'FTI_?', 'TBG measured_t', 'TBG_0.15', 'TBG_3.1', 'TBG_4.9', 'TBG_8.4', 'TBG_8.799999', 'TBG_9.299999', 'TBG_9.599999', 'TBG_10', 'TBG_11', 'TBG_12', 'TBG_13', 'TBG_14', 'TBG_15', 'TBG_16', 'TBG_17', 'TBG_18', 'TBG_19', 'TBG_20', 'TBG_21', 'TBG_22', 'TBG_23', 'TBG_24', 'TBG_25', 'TBG_26', 'TBG_27', 'TBG_28', 'TBG_29', 'TBG_30', 'TBG_31', 'TBG_32', 'TBG_33', 'TBG_34', 'TBG_35', 'TBG_36', 'TBG_37', 'TBG_38', 'TBG_39', 'TBG_41', 'TBG_43', 'TBG_44', 'TBG_45', 'TBG_46', 'TBG_47', 'TBG_48', 'TBG_49', 'TBG_50', 'TBG_51', 'TBG_53', 'TBG_54', 'TBG_63', 'TBG_65', 'TBG_69', 'TBG_72', 'TBG_86', 'TBG_90', 'TBG_96', 'TBG_100', 'TBG_106', 'TBG_108', 'TBG_110', 'TBG_114', 'TBG_116', 'TBG_135', 'TBG_190', 'TBG_200', 'TBG_?', 'referral source_1.0', 'referral source_2.0', 'referral source_3.0', 'referral source_4.0', 'Condition_AK', 'Condition_B', 'Condition_C', 'Condition_C|I', 'Condition_D', 'Condition_D|R', 'Condition_E', 'Condition_F', 'Condition_FK', 'Condition_G', 'Condition_GI', 'Condition_GK', 'Condition_GKJ', 'Condition_H|K', 'Condition_I', 'Condition_J', 'Condition_K', 'Condition_KJ', 'Condition_L', 'Condition_LJ', 'Condition_M', 'Condition_MI', 'Condition_MK', 'Condition_N', 'Condition_NO CONDITION', 'Condition_O', 'Condition_OI', 'Condition_P', 'Condition_Q', 'Condition_R', 'Condition_S']\n",
            "First Vector: [True False False ... False False False]\n",
            "Second Vector: [True False False ... False False False]\n"
          ]
        }
      ],
      "source": [
        "# Identify binary attributes (columns with only 0 and 1 values)\n",
        "binary_cols = [col for col in df.columns if df[col].dropna().isin([0, 1]).all()]\n",
        "\n",
        "# Select first two observation vectors with binary attributes\n",
        "vec1 = df.loc[0, binary_cols].values\n",
        "vec2 = df.loc[1, binary_cols].values\n",
        "\n",
        "print(\"Binary Attributes:\", binary_cols)\n",
        "print(\"First Vector:\", vec1)\n",
        "print(\"Second Vector:\", vec2)"
      ]
    },
    {
      "cell_type": "code",
      "execution_count": null,
      "metadata": {
        "colab": {
          "base_uri": "https://localhost:8080/"
        },
        "id": "BaZ0__GPmOHF",
        "outputId": "1ea9dde1-dd82-4b99-bb33-a4330499d835"
      },
      "outputs": [
        {
          "output_type": "stream",
          "name": "stdout",
          "text": [
            "Jaccard Coefficient (JC): 0.4000\n",
            " Simple Matching Coefficient (SMC): 0.9934\n",
            "\n",
            "Comparison of JC and SMC:\n",
            "- Simple Matching Coefficient is higher, meaning similarity considers both common 1s and 0s.\n",
            "\n",
            "Conclusion:\n",
            "- Jaccard Coefficient is more suitable when 0s (absence) are not important, e.g., in text/document similarity.\n",
            "- Simple Matching Coefficient is better when both presence and absence matter, e.g., in categorical feature matching.\n",
            "- In this case, SMC is more appropriate as it considers both common 1s and 0s for similarity comparison.\n"
          ]
        }
      ],
      "source": [
        "import numpy as np\n",
        "intersection = np.sum((vec1 == 1) & (vec2 == 1))\n",
        "union = np.sum((vec1 == 1) | (vec2 == 1))\n",
        "jc = intersection / union if union != 0 else 0\n",
        "\n",
        "# Compute Simple Matching Coefficient (SMC)\n",
        "matches = np.sum(vec1 == vec2)\n",
        "total_attributes = len(vec1)\n",
        "smc = matches / total_attributes\n",
        "\n",
        "\n",
        "print(f\"Jaccard Coefficient (JC): {jc:.4f}\")\n",
        "print(f\" Simple Matching Coefficient (SMC): {smc:.4f}\")\n",
        "\n",
        "# Comparison Analysis\n",
        "print(\"\\nComparison of JC and SMC:\")\n",
        "if jc > smc:\n",
        "    print(\"- Jaccard Coefficient is higher, meaning similarity is based only on common 1s, ignoring common 0s.\")\n",
        "elif smc > jc:\n",
        "    print(\"- Simple Matching Coefficient is higher, meaning similarity considers both common 1s and 0s.\")\n",
        "else:\n",
        "    print(\"- Both coefficients are equal, indicating a balance between presence and absence matches.\")\n",
        "\n",
        "# Conclusion\n",
        "print(\"\\nConclusion:\")\n",
        "print(\"- Jaccard Coefficient is more suitable when 0s (absence) are not important, e.g., in text/document similarity.\")\n",
        "print(\"- Simple Matching Coefficient is better when both presence and absence matter, e.g., in categorical feature matching.\")\n",
        "print(\"- In this case, SMC is more appropriate as it considers both common 1s and 0s for similarity comparison.\")"
      ]
    },
    {
      "cell_type": "markdown",
      "metadata": {
        "id": "qS9SIOVHm5Qt"
      },
      "source": [
        "9) Cosine Similarity Measure: Now take the complete vectors for these two observations (including\n",
        "all the attributes). Calculate the Cosine similarity between the documents by using the second\n",
        "feature vector for each document."
      ]
    },
    {
      "cell_type": "code",
      "execution_count": null,
      "metadata": {
        "colab": {
          "base_uri": "https://localhost:8080/"
        },
        "id": "jzbEAOPWm7Oq",
        "outputId": "5a1a0590-11bc-4a25-8af6-1450e14b4629"
      },
      "outputs": [
        {
          "name": "stdout",
          "output_type": "stream",
          "text": [
            "Cosine Similarity: 1.0000\n"
          ]
        }
      ],
      "source": [
        "import pandas as pd\n",
        "import numpy as np\n",
        "from sklearn.metrics.pairwise import cosine_similarity\n",
        "\n",
        "vec1 = df.iloc[0].values.reshape(1, -1)\n",
        "vec2 = df.iloc[1].values.reshape(1, -1)\n",
        "\n",
        "cos_sim = cosine_similarity(vec1, vec2)[0][0]\n",
        "\n",
        "print(f\"Cosine Similarity: {cos_sim:.4f}\")"
      ]
    },
    {
      "cell_type": "markdown",
      "metadata": {
        "id": "kOZa-itgn5_a"
      },
      "source": [
        "10) Heatmap Plot: Consider the first 20 observation vectors. Calculate the JC, SMC and COS\n",
        "between the pairs of vectors for these 20 vectors. Employ similar strategies for coefficient\n",
        "calculation as in A4 & A5. Employ a heatmap plot to visualize the similarities.  \n",
        "\n"
      ]
    },
    {
      "cell_type": "code",
      "execution_count": null,
      "metadata": {
        "colab": {
          "base_uri": "https://localhost:8080/",
          "height": 490
        },
        "id": "sK2yHEI_n6bu",
        "outputId": "02c7f319-312d-4c14-f6cc-3a56a3420f91"
      },
      "outputs": [
        {
          "data": {
            "image/png": "[encoded data removed]",
            "text/plain": [
              "<Figure size 1800x600 with 6 Axes>"
            ]
          },
          "metadata": {},
          "output_type": "display_data"
        }
      ],
      "source": [
        "import matplotlib.pyplot as plt\n",
        "from sklearn.metrics.pairwise import cosine_similarity\n",
        "\n",
        "df_subset = df.iloc[:20]\n",
        "binary_cols = [col for col in df.columns if df[col].dropna().isin([0, 1]).all()]\n",
        "df_binary = df_subset[binary_cols].astype(int)\n",
        "\n",
        "df_values = df_subset.to_numpy()\n",
        "\n",
        "jc_matrix = np.zeros((20, 20))\n",
        "smc_matrix = np.zeros((20, 20))\n",
        "cos_matrix = cosine_similarity(df_values)\n",
        "\n",
        "def compute_jc_smc(vec1, vec2):\n",
        "    intersection = np.sum((vec1 == 1) & (vec2 == 1))\n",
        "    union = np.sum((vec1 == 1) | (vec2 == 1))\n",
        "    matches = np.sum(vec1 == vec2)\n",
        "    total_attributes = len(vec1)\n",
        "\n",
        "    jc = intersection / union if union != 0 else 0\n",
        "    smc = matches / total_attributes\n",
        "    return jc, smc\n",
        "\n",
        "for i in range(20):\n",
        "    for j in range(20):\n",
        "        jc_matrix[i, j], smc_matrix[i, j] = compute_jc_smc(df_binary.iloc[i].values, df_binary.iloc[j].values)\n",
        "\n",
        "jc_df = pd.DataFrame(jc_matrix, index=range(1, 21), columns=range(1, 21))\n",
        "smc_df = pd.DataFrame(smc_matrix, index=range(1, 21), columns=range(1, 21))\n",
        "cos_df = pd.DataFrame(cos_matrix, index=range(1, 21), columns=range(1, 21))\n",
        "\n",
        "fig, axes = plt.subplots(1, 3, figsize=(18, 6))\n",
        "\n",
        "sns.heatmap(jc_df, ax=axes[0], cmap=\"coolwarm\", annot=False)\n",
        "axes[0].set_title(\"Jaccard Coefficient (JC)\")\n",
        "\n",
        "sns.heatmap(smc_df, ax=axes[1], cmap=\"coolwarm\", annot=False)\n",
        "axes[1].set_title(\"Simple Matching Coefficient (SMC)\")\n",
        "\n",
        "sns.heatmap(cos_df, ax=axes[2], cmap=\"coolwarm\", annot=False)\n",
        "axes[2].set_title(\"Cosine Similarity (COS)\")\n",
        "\n",
        "plt.tight_layout()\n",
        "plt.show()"
      ]
    }
  ],
  "metadata": {
    "accelerator": "GPU",
    "colab": {
      "gpuType": "T4",
      "provenance": [],
      "include_colab_link": true
    },
    "kernelspec": {
      "display_name": "Python 3",
      "name": "python3"
    },
    "language_info": {
      "name": "python"
    }
  },
  "nbformat": 4,
  "nbformat_minor": 0
}